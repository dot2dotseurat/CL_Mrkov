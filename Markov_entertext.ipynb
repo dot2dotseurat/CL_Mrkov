{
 "cells": [
  {
   "cell_type": "code",
   "execution_count": 211,
   "metadata": {
    "collapsed": true
   },
   "outputs": [],
   "source": [
    "#This notebook writes the markov chain with a user input \"seed\""
   ]
  },
  {
   "cell_type": "code",
   "execution_count": 212,
   "metadata": {
    "collapsed": true
   },
   "outputs": [],
   "source": [
    "import pandas as pd\n",
    "import nltk as n\n",
    "import string"
   ]
  },
  {
   "cell_type": "code",
   "execution_count": 226,
   "metadata": {
    "collapsed": true
   },
   "outputs": [],
   "source": [
    "import random\n",
    " \n",
    "class Markov(object):\n",
    "        \n",
    "        def __init__(self, open_file):\n",
    "                self.cache = {}\n",
    "                self.open_file = open_file\n",
    "                self.words = self.file_to_words()\n",
    "                self.word_size = len(self.words)\n",
    "                self.database()\n",
    "                \n",
    "        \n",
    "        def file_to_words(self):\n",
    "                self.open_file.seek(0)\n",
    "                data = self.open_file.read()\n",
    "                words = data.split()\n",
    "                return words\n",
    "                \n",
    "        \n",
    "        def triples(self):\n",
    "                \"\"\" Generates triples from the given data string. So if our string were\n",
    "                                \"What a lovely day\", we'd generate (What, a, lovely) and then\n",
    "                                (a, lovely, day).\n",
    "                \"\"\"\n",
    "                \n",
    "                if len(self.words) < 3:\n",
    "                        return\n",
    "                \n",
    "                for i in range(len(self.words) - 2):\n",
    "                        yield (self.words[i], self.words[i+1], self.words[i+2])\n",
    "                        \n",
    "        def database(self):\n",
    "                for w1, w2, w3 in self.triples():\n",
    "                        key = (w1, w2)\n",
    "                        if key in self.cache:\n",
    "                                self.cache[key].append(w3)\n",
    "                        else:\n",
    "                                self.cache[key] = [w3]\n",
    "                                \n",
    "        def generate_markov_text(self, size=20):\n",
    "                #seed = random.randint(0, self.word_size-3)\n",
    "                var = raw_input(\"Please enter something: \")\n",
    "                pick = var\n",
    "                seed_list = [i for i,x in enumerate(self.words) if x == pick]\n",
    "                seed=random.choice(seed_list)\n",
    "                seed_word, next_word = self.words[seed], self.words[seed+1]\n",
    "                w1, w2 = seed_word, next_word\n",
    "                gen_words = []\n",
    "                for i in xrange(size):\n",
    "                        gen_words.append(w1)\n",
    "                        w1, w2 = w2, random.choice(self.cache[(w1, w2)])\n",
    "                gen_words.append(w2)\n",
    "                return ' '.join(gen_words)"
   ]
  },
  {
   "cell_type": "code",
   "execution_count": 227,
   "metadata": {
    "collapsed": false
   },
   "outputs": [
    {
     "name": "stdout",
     "output_type": "stream",
     "text": [
      "Please enter something: come\n"
     ]
    },
    {
     "data": {
      "text/plain": [
       "\"come home and you 're irrationally angry , and compassion . My ride was leaving and I recognize that 's on\""
      ]
     },
     "execution_count": 227,
     "metadata": {},
     "output_type": "execute_result"
    }
   ],
   "source": [
    "file_ = open('Output_Combine.txt')\n",
    "markov = Markov(file_)\n",
    "markov.generate_markov_text()"
   ]
  },
  {
   "cell_type": "code",
   "execution_count": 238,
   "metadata": {
    "collapsed": false
   },
   "outputs": [
    {
     "name": "stdout",
     "output_type": "stream",
     "text": [
      "Please enter something: oakland\n"
     ]
    },
    {
     "data": {
      "text/plain": [
       "'oakland stop you get on in the radiology area , you were pumping gas seeing you were an acrobat after first'"
      ]
     },
     "execution_count": 238,
     "metadata": {},
     "output_type": "execute_result"
    }
   ],
   "source": [
    "markov.generate_markov_text()\n"
   ]
  },
  {
   "cell_type": "code",
   "execution_count": 129,
   "metadata": {
    "collapsed": false
   },
   "outputs": [
    {
     "ename": "NameError",
     "evalue": "name 'self' is not defined",
     "output_type": "error",
     "traceback": [
      "\u001b[1;31m---------------------------------------------------------------------------\u001b[0m",
      "\u001b[1;31mNameError\u001b[0m                                 Traceback (most recent call last)",
      "\u001b[1;32m<ipython-input-129-140d3eb14e48>\u001b[0m in \u001b[0;36m<module>\u001b[1;34m()\u001b[0m\n\u001b[1;32m----> 1\u001b[1;33m \u001b[1;33m[\u001b[0m\u001b[0mi\u001b[0m \u001b[1;32mfor\u001b[0m \u001b[0mi\u001b[0m\u001b[1;33m,\u001b[0m\u001b[0mx\u001b[0m \u001b[1;32min\u001b[0m \u001b[0menumerate\u001b[0m\u001b[1;33m(\u001b[0m\u001b[0mself\u001b[0m\u001b[1;33m.\u001b[0m\u001b[0mwords\u001b[0m\u001b[1;33m)\u001b[0m \u001b[1;32mif\u001b[0m \u001b[0mx\u001b[0m \u001b[1;33m==\u001b[0m \u001b[1;34m\"home\"\u001b[0m\u001b[1;33m]\u001b[0m\u001b[1;33m\u001b[0m\u001b[0m\n\u001b[0m",
      "\u001b[1;31mNameError\u001b[0m: name 'self' is not defined"
     ]
    }
   ],
   "source": [
    "[i for i,x in enumerate(self.words) if x == \"home\"]"
   ]
  },
  {
   "cell_type": "code",
   "execution_count": null,
   "metadata": {
    "collapsed": true
   },
   "outputs": [],
   "source": []
  }
 ],
 "metadata": {
  "kernelspec": {
   "display_name": "Python 2",
   "language": "python",
   "name": "python2"
  },
  "language_info": {
   "codemirror_mode": {
    "name": "ipython",
    "version": 2
   },
   "file_extension": ".py",
   "mimetype": "text/x-python",
   "name": "python",
   "nbconvert_exporter": "python",
   "pygments_lexer": "ipython2",
   "version": "2.7.9"
  }
 },
 "nbformat": 4,
 "nbformat_minor": 0
}
