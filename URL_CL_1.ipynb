{
 "cells": [
  {
   "cell_type": "code",
   "execution_count": null,
   "metadata": {
    "collapsed": true
   },
   "outputs": [],
   "source": [
    "#This notebook scrapes the text of the missed connenction posts and saves the text in a txt file. "
   ]
  },
  {
   "cell_type": "code",
   "execution_count": 8,
   "metadata": {
    "collapsed": true
   },
   "outputs": [],
   "source": [
    "import pandas as pd\n",
    "import nltk as n\n",
    "import string"
   ]
  },
  {
   "cell_type": "code",
   "execution_count": 233,
   "metadata": {
    "collapsed": false
   },
   "outputs": [
    {
     "name": "stdout",
     "output_type": "stream",
     "text": [
      "/\n",
      "https://post.craigslist.org/c/aus?lang=en\n",
      "https://post.craigslist.org/c/aus?lang=en\n",
      "https://accounts.craigslist.org/login/home\n",
      "https://accounts.craigslist.org/login/home\n",
      "#\n",
      "/\n",
      "/\n",
      "https://post.craigslist.org/c/aus?lang=en\n",
      "https://post.craigslist.org/c/aus?lang=en\n",
      "https://accounts.craigslist.org/login/home\n",
      "https://accounts.craigslist.org/login/home\n",
      "#\n",
      "#\n",
      "/search/mis\n",
      "/search/mis\n",
      "https://accounts.craigslist.org/login?rt=L&rp=%2Fsavesearch%2Falert%3FURL%3Dhttps%253A%252F%252Faustin%252Ecraigslist%252Eorg%252Fsearch%252Fmis\n",
      "https://accounts.craigslist.org/login?rt=L&rp=%2Fsavesearch%2Fsave%3FURL%3Dhttps%253A%252F%252Faustin%252Ecraigslist%252Eorg%252Fsearch%252Fmis\n",
      "https://accounts.craigslist.org/login?rt=L&rp=%2Fsavesearch%2Falert%3FURL%3Dhttps%253A%252F%252Faustin%252Ecraigslist%252Eorg%252Fsearch%252Fmis\n",
      "#list\n",
      "#pic\n",
      "#grid\n",
      "#map\n",
      "/search/mis\n",
      "/search/mis?s=600\n",
      "/search/mis?s=800\n",
      "/mis/5041474166.html\n",
      "/mis/5041474166.html\n",
      "None\n",
      "None\n",
      "/mis/5041344008.html\n",
      "/mis/5041344008.html\n",
      "None\n",
      "None\n",
      "/mis/5041262883.html\n",
      "/mis/5041262883.html\n",
      "None\n",
      "None\n",
      "/mis/5041256100.html\n",
      "/mis/5041256100.html\n",
      "None\n",
      "None\n",
      "/mis/5041241878.html\n",
      "/mis/5041241878.html\n",
      "None\n",
      "None\n",
      "/mis/5041232855.html\n",
      "/mis/5041232855.html\n",
      "None\n",
      "None\n",
      "/mis/5041198201.html\n",
      "/mis/5041198201.html\n",
      "None\n",
      "None\n",
      "/mis/5041198285.html\n",
      "/mis/5041198285.html\n",
      "None\n",
      "None\n",
      "/mis/5041136350.html\n",
      "/mis/5041136350.html\n",
      "None\n",
      "None\n",
      "/mis/5041130489.html\n",
      "/mis/5041130489.html\n",
      "None\n",
      "None\n",
      "/mis/5041125172.html\n",
      "/mis/5041125172.html\n",
      "None\n",
      "None\n",
      "/mis/5041109499.html\n",
      "/mis/5041109499.html\n",
      "None\n",
      "None\n",
      "/mis/5041043483.html\n",
      "/mis/5041043483.html\n",
      "None\n",
      "None\n",
      "/mis/5041034368.html\n",
      "/mis/5041034368.html\n",
      "None\n",
      "None\n",
      "/mis/5041030521.html\n",
      "/mis/5041030521.html\n",
      "None\n",
      "None\n",
      "/mis/5041013272.html\n",
      "/mis/5041013272.html\n",
      "None\n",
      "None\n",
      "/mis/5040862129.html\n",
      "/mis/5040862129.html\n",
      "None\n",
      "None\n",
      "/mis/5040843569.html\n",
      "/mis/5040843569.html\n",
      "None\n",
      "None\n",
      "/mis/5040732399.html\n",
      "/mis/5040732399.html\n",
      "None\n",
      "None\n",
      "/mis/5040701152.html\n",
      "/mis/5040701152.html\n",
      "None\n",
      "None\n",
      "/mis/5040681422.html\n",
      "/mis/5040681422.html\n",
      "None\n",
      "None\n",
      "/mis/5040531093.html\n",
      "/mis/5040531093.html\n",
      "None\n",
      "None\n",
      "/mis/5040470964.html\n",
      "/mis/5040470964.html\n",
      "None\n",
      "None\n",
      "/mis/5040396316.html\n",
      "/mis/5040396316.html\n",
      "None\n",
      "None\n",
      "/mis/5040394065.html\n",
      "/mis/5040394065.html\n",
      "None\n",
      "None\n",
      "/mis/5040371089.html\n",
      "/mis/5040371089.html\n",
      "None\n",
      "None\n",
      "/mis/5040205328.html\n",
      "/mis/5040205328.html\n",
      "None\n",
      "None\n",
      "/mis/5040166466.html\n",
      "/mis/5040166466.html\n",
      "None\n",
      "None\n",
      "/mis/5040162088.html\n",
      "/mis/5040162088.html\n",
      "None\n",
      "None\n",
      "/mis/5039981813.html\n",
      "/mis/5039981813.html\n",
      "None\n",
      "None\n",
      "/mis/5039978534.html\n",
      "/mis/5039978534.html\n",
      "None\n",
      "None\n",
      "/mis/5039976930.html\n",
      "/mis/5039976930.html\n",
      "None\n",
      "None\n",
      "/mis/5039952509.html\n",
      "/mis/5039952509.html\n",
      "None\n",
      "None\n",
      "/mis/5039960440.html\n",
      "/mis/5039960440.html\n",
      "None\n",
      "None\n",
      "/mis/5039957382.html\n",
      "/mis/5039957382.html\n",
      "None\n",
      "None\n",
      "/mis/5039952192.html\n",
      "/mis/5039952192.html\n",
      "None\n",
      "None\n",
      "/mis/5039950079.html\n",
      "/mis/5039950079.html\n",
      "None\n",
      "None\n",
      "/mis/5039917064.html\n",
      "/mis/5039917064.html\n",
      "None\n",
      "None\n",
      "/mis/5007435511.html\n",
      "/mis/5007435511.html\n",
      "None\n",
      "None\n",
      "/mis/5039892470.html\n",
      "/mis/5039892470.html\n",
      "None\n",
      "None\n",
      "/mis/5039865089.html\n",
      "/mis/5039865089.html\n",
      "None\n",
      "None\n",
      "/mis/5039815579.html\n",
      "/mis/5039815579.html\n",
      "None\n",
      "None\n",
      "/mis/5039778348.html\n",
      "/mis/5039778348.html\n",
      "None\n",
      "None\n",
      "/mis/5039762489.html\n",
      "/mis/5039762489.html\n",
      "None\n",
      "None\n",
      "/mis/5039641448.html\n",
      "/mis/5039641448.html\n",
      "None\n",
      "None\n",
      "/mis/5039590110.html\n",
      "/mis/5039590110.html\n",
      "None\n",
      "None\n",
      "/mis/5039539290.html\n",
      "/mis/5039539290.html\n",
      "None\n",
      "None\n",
      "/mis/5039515314.html\n",
      "/mis/5039515314.html\n",
      "None\n",
      "None\n",
      "/mis/5039515295.html\n",
      "/mis/5039515295.html\n",
      "None\n",
      "None\n",
      "/mis/5039503063.html\n",
      "/mis/5039503063.html\n",
      "None\n",
      "None\n",
      "/mis/5039465447.html\n",
      "/mis/5039465447.html\n",
      "None\n",
      "None\n",
      "/mis/5039419331.html\n",
      "/mis/5039419331.html\n",
      "None\n",
      "None\n",
      "/mis/5039403685.html\n",
      "/mis/5039403685.html\n",
      "None\n",
      "None\n",
      "/mis/5039377246.html\n",
      "/mis/5039377246.html\n",
      "None\n",
      "None\n",
      "/mis/5039335131.html\n",
      "/mis/5039335131.html\n",
      "None\n",
      "None\n",
      "/mis/5039340445.html\n",
      "/mis/5039340445.html\n",
      "None\n",
      "None\n",
      "/mis/5039257717.html\n",
      "/mis/5039257717.html\n",
      "None\n",
      "None\n",
      "/mis/5039182573.html\n",
      "/mis/5039182573.html\n",
      "None\n",
      "None\n",
      "/mis/5039193964.html\n",
      "/mis/5039193964.html\n",
      "None\n",
      "None\n",
      "/mis/5039176433.html\n",
      "/mis/5039176433.html\n",
      "None\n",
      "None\n",
      "/mis/5039099273.html\n",
      "/mis/5039099273.html\n",
      "None\n",
      "None\n",
      "/mis/5039083053.html\n",
      "/mis/5039083053.html\n",
      "None\n",
      "None\n",
      "/mis/5039050299.html\n",
      "/mis/5039050299.html\n",
      "None\n",
      "None\n",
      "/mis/5038692300.html\n",
      "/mis/5038692300.html\n",
      "None\n",
      "None\n",
      "/mis/5038614016.html\n",
      "/mis/5038614016.html\n",
      "None\n",
      "None\n",
      "/mis/5038604122.html\n",
      "/mis/5038604122.html\n",
      "None\n",
      "None\n",
      "/mis/5038586728.html\n",
      "/mis/5038586728.html\n",
      "None\n",
      "None\n",
      "/mis/5038571373.html\n",
      "/mis/5038571373.html\n",
      "None\n",
      "None\n",
      "/mis/5038527137.html\n",
      "/mis/5038527137.html\n",
      "None\n",
      "None\n",
      "/mis/5038517973.html\n",
      "/mis/5038517973.html\n",
      "None\n",
      "None\n",
      "/mis/5038523129.html\n",
      "/mis/5038523129.html\n",
      "None\n",
      "None\n",
      "/mis/5038488181.html\n",
      "/mis/5038488181.html\n",
      "None\n",
      "None\n",
      "/mis/5038458089.html\n",
      "/mis/5038458089.html\n",
      "None\n",
      "None\n",
      "/mis/5010048779.html\n",
      "/mis/5010048779.html\n",
      "None\n",
      "None\n",
      "/mis/5034531707.html\n",
      "/mis/5034531707.html\n",
      "None\n",
      "None\n",
      "/mis/5038453169.html\n",
      "/mis/5038453169.html\n",
      "None\n",
      "None\n",
      "/mis/5038448702.html\n",
      "/mis/5038448702.html\n",
      "None\n",
      "None\n",
      "/mis/5038416460.html\n",
      "/mis/5038416460.html\n",
      "None\n",
      "None\n",
      "/mis/5038375483.html\n",
      "/mis/5038375483.html\n",
      "None\n",
      "None\n",
      "/mis/5038374688.html\n",
      "/mis/5038374688.html\n",
      "None\n",
      "None\n",
      "/mis/5038294766.html\n",
      "/mis/5038294766.html\n",
      "None\n",
      "None\n",
      "/mis/5038286276.html\n",
      "/mis/5038286276.html\n",
      "None\n",
      "None\n",
      "/mis/5038251640.html\n",
      "/mis/5038251640.html\n",
      "None\n",
      "None\n",
      "/mis/5038244669.html\n",
      "/mis/5038244669.html\n",
      "None\n",
      "None\n",
      "/mis/5038221946.html\n",
      "/mis/5038221946.html\n",
      "None\n",
      "None\n",
      "/mis/5038241424.html\n",
      "/mis/5038241424.html\n",
      "None\n",
      "None\n",
      "/mis/5038236104.html\n",
      "/mis/5038236104.html\n",
      "None\n",
      "None\n",
      "/mis/5038160080.html\n",
      "/mis/5038160080.html\n",
      "None\n",
      "None\n",
      "/mis/5008231764.html\n",
      "/mis/5008231764.html\n",
      "None\n",
      "None\n",
      "/mis/5037998986.html\n",
      "/mis/5037998986.html\n",
      "None\n",
      "None\n",
      "/mis/5037755364.html\n",
      "/mis/5037755364.html\n",
      "None\n",
      "None\n",
      "/mis/5037791140.html\n",
      "/mis/5037791140.html\n",
      "None\n",
      "None\n",
      "/mis/5037740752.html\n",
      "/mis/5037740752.html\n",
      "None\n",
      "None\n",
      "/mis/5037719681.html\n",
      "/mis/5037719681.html\n",
      "None\n",
      "None\n",
      "/mis/5037714927.html\n",
      "/mis/5037714927.html\n",
      "None\n",
      "None\n",
      "/mis/5037698861.html\n",
      "/mis/5037698861.html\n",
      "None\n",
      "None\n",
      "/mis/5037648029.html\n",
      "/mis/5037648029.html\n",
      "None\n",
      "None\n",
      "/mis/5037609109.html\n",
      "/mis/5037609109.html\n",
      "None\n",
      "None\n",
      "/mis/5037585556.html\n",
      "/mis/5037585556.html\n",
      "None\n",
      "None\n",
      "/mis/5037472084.html\n",
      "/mis/5037472084.html\n",
      "None\n",
      "None\n",
      "#pagecontainer\n",
      "#pagecontainer\n",
      "/search/mis\n",
      "/search/mis?s=600\n",
      "/search/mis?s=800\n",
      "https://austin.craigslist.org/search/mis?s=700&format=rss\n",
      "http://www.craigslist.org/about/rss\n",
      "//www.craigslist.org/about/help/\n",
      "//www.craigslist.org/about/scams\n",
      "//www.craigslist.org/about/privacy.policy\n",
      "https://forums.craigslist.org/?forumID=8\n",
      "//www.craigslist.org/about/craigslist_is_hiring\n",
      "//www.craigslist.org/about/terms.of.use\n",
      "//www.craigslist.org/about/\n"
     ]
    }
   ],
   "source": [
    "from bs4 import BeautifulSoup\n",
    "import urllib2\n",
    "\n",
    "#Input url to Craigslist Missed Connection page here\n",
    "redditFile = urllib2.urlopen(\"http://austin.craigslist.org/search/mis?s=700\")\n",
    "redditHtml = redditFile.read()\n",
    "redditFile.close()\n",
    "\n",
    "soup = BeautifulSoup(redditHtml)\n",
    "redditAll = soup.find_all(\"a\")\n",
    "for links in soup.find_all('a'):\n",
    "    print (links.get('href'))\n",
    "    \n",
    "#Scroll down out put and open the file that ends in ...&format=rss. Save this file as an XML in your working directory"
   ]
  },
  {
   "cell_type": "code",
   "execution_count": 234,
   "metadata": {
    "collapsed": false
   },
   "outputs": [
    {
     "name": "stdout",
     "output_type": "stream",
     "text": [
      "<xml.etree.ElementTree.ElementTree object at 0x0000000019CD2278>\n"
     ]
    }
   ],
   "source": [
    "from xml.etree import ElementTree\n",
    "\n",
    "#Input the name of the xml you just saved here\n",
    "with open('austin.xml', 'rt') as f:\n",
    "    tree = ElementTree.parse(f)\n",
    "\n",
    "print tree"
   ]
  },
  {
   "cell_type": "code",
   "execution_count": 235,
   "metadata": {
    "collapsed": true
   },
   "outputs": [],
   "source": [
    "root=tree.getroot()"
   ]
  },
  {
   "cell_type": "code",
   "execution_count": 236,
   "metadata": {
    "collapsed": false
   },
   "outputs": [],
   "source": [
    "html=[]\n",
    "for child_of_root in root:\n",
    "    dictionary=child_of_root.attrib\n",
    "    html.append(dictionary.values())"
   ]
  },
  {
   "cell_type": "code",
   "execution_count": 237,
   "metadata": {
    "collapsed": false
   },
   "outputs": [
    {
     "data": {
      "text/plain": [
       "[['https://austin.craigslist.org/search/mis?format=rss&amp;s=700&amp;format=rss']]"
      ]
     },
     "execution_count": 237,
     "metadata": {},
     "output_type": "execute_result"
    }
   ],
   "source": [
    "html"
   ]
  },
  {
   "cell_type": "code",
   "execution_count": 238,
   "metadata": {
    "collapsed": true
   },
   "outputs": [],
   "source": [
    "import itertools\n",
    "merged = list(itertools.chain(*html))"
   ]
  },
  {
   "cell_type": "code",
   "execution_count": 248,
   "metadata": {
    "collapsed": false
   },
   "outputs": [
    {
     "ename": "IndexError",
     "evalue": "list index out of range",
     "output_type": "error",
     "traceback": [
      "\u001b[1;31m---------------------------------------------------------------------------\u001b[0m",
      "\u001b[1;31mIndexError\u001b[0m                                Traceback (most recent call last)",
      "\u001b[1;32m<ipython-input-248-f20543fe75b1>\u001b[0m in \u001b[0;36m<module>\u001b[1;34m()\u001b[0m\n\u001b[0;32m      2\u001b[0m \u001b[1;32mimport\u001b[0m \u001b[0mrequests\u001b[0m\u001b[1;33m\u001b[0m\u001b[0m\n\u001b[0;32m      3\u001b[0m \u001b[1;33m\u001b[0m\u001b[0m\n\u001b[1;32m----> 4\u001b[1;33m \u001b[0mpage\u001b[0m \u001b[1;33m=\u001b[0m \u001b[0mrequests\u001b[0m\u001b[1;33m.\u001b[0m\u001b[0mget\u001b[0m\u001b[1;33m(\u001b[0m\u001b[0mmerged\u001b[0m\u001b[1;33m[\u001b[0m\u001b[1;36m1\u001b[0m\u001b[1;33m]\u001b[0m\u001b[1;33m)\u001b[0m\u001b[1;33m\u001b[0m\u001b[0m\n\u001b[0m\u001b[0;32m      5\u001b[0m \u001b[0mtree\u001b[0m \u001b[1;33m=\u001b[0m \u001b[0mhtml\u001b[0m\u001b[1;33m.\u001b[0m\u001b[0mfromstring\u001b[0m\u001b[1;33m(\u001b[0m\u001b[0mpage\u001b[0m\u001b[1;33m.\u001b[0m\u001b[0mtext\u001b[0m\u001b[1;33m)\u001b[0m\u001b[1;33m\u001b[0m\u001b[0m\n",
      "\u001b[1;31mIndexError\u001b[0m: list index out of range"
     ]
    }
   ],
   "source": [
    "from lxml import html\n",
    "import requests\n",
    "\n",
    "page = requests.get(merged[1])\n",
    "tree = html.fromstring(page.text)"
   ]
  },
  {
   "cell_type": "code",
   "execution_count": 249,
   "metadata": {
    "collapsed": false
   },
   "outputs": [],
   "source": [
    "body=[]\n",
    "for i in range(len(merged)):\n",
    "    from bs4 import BeautifulSoup\n",
    "    import urllib2\n",
    "\n",
    "    redditFile = urllib2.urlopen(merged[i])\n",
    "    redditHtml = redditFile.read()\n",
    "    redditFile.close()\n",
    "\n",
    "    soup = BeautifulSoup(redditHtml)\n",
    "    body.append(soup.html.select(\"#postingbody\"))\n",
    "    \n",
    "    "
   ]
  },
  {
   "cell_type": "code",
   "execution_count": 241,
   "metadata": {
    "collapsed": false
   },
   "outputs": [],
   "source": [
    "body=pd.DataFrame(body)\n",
    "body.to_csv('body_austin.csv')"
   ]
  },
  {
   "cell_type": "code",
   "execution_count": 242,
   "metadata": {
    "collapsed": true
   },
   "outputs": [],
   "source": [
    "body=pd.read_csv('body_austin.csv')"
   ]
  },
  {
   "cell_type": "code",
   "execution_count": 243,
   "metadata": {
    "collapsed": false
   },
   "outputs": [],
   "source": [
    "formatters=['section','id=',\"''\",'postingbody','<','br/','>','/section','[',']']"
   ]
  },
  {
   "cell_type": "code",
   "execution_count": 244,
   "metadata": {
    "collapsed": false
   },
   "outputs": [],
   "source": [
    "def remove_formatters(the_list):\n",
    "    mylist = [item for item in the_list if item not in formatters]\n",
    "    return mylist"
   ]
  },
  {
   "cell_type": "code",
   "execution_count": 245,
   "metadata": {
    "collapsed": false
   },
   "outputs": [],
   "source": [
    "def make_library(df):\n",
    "    for i in range(2,len(df)):\n",
    "                   if type(df['0'][i]) == str:\n",
    "                       list_=n.word_tokenize(df['0'][i])\n",
    "                       word=remove_formatters(list_)\n",
    "                       for j in range(len(word)):\n",
    "                            library2.append(word[j])"
   ]
  },
  {
   "cell_type": "code",
   "execution_count": 246,
   "metadata": {
    "collapsed": false
   },
   "outputs": [],
   "source": [
    "make_library(body)"
   ]
  },
  {
   "cell_type": "code",
   "execution_count": 247,
   "metadata": {
    "collapsed": false
   },
   "outputs": [
    {
     "data": {
      "text/plain": [
       "5741"
      ]
     },
     "execution_count": 247,
     "metadata": {},
     "output_type": "execute_result"
    }
   ],
   "source": [
    "len(library2)"
   ]
  },
  {
   "cell_type": "code",
   "execution_count": 250,
   "metadata": {
    "collapsed": false
   },
   "outputs": [],
   "source": [
    "text=' '.join(library2)"
   ]
  },
  {
   "cell_type": "code",
   "execution_count": 251,
   "metadata": {
    "collapsed": false,
    "scrolled": true
   },
   "outputs": [],
   "source": [
    "text_file = open(\"Output_2.txt\", \"w\")\n",
    "text_file.write(text)\n",
    "text_file.close()"
   ]
  },
  {
   "cell_type": "code",
   "execution_count": null,
   "metadata": {
    "collapsed": true
   },
   "outputs": [],
   "source": []
  }
 ],
 "metadata": {
  "kernelspec": {
   "display_name": "Python 2",
   "language": "python",
   "name": "python2"
  },
  "language_info": {
   "codemirror_mode": {
    "name": "ipython",
    "version": 2
   },
   "file_extension": ".py",
   "mimetype": "text/x-python",
   "name": "python",
   "nbconvert_exporter": "python",
   "pygments_lexer": "ipython2",
   "version": "2.7.9"
  }
 },
 "nbformat": 4,
 "nbformat_minor": 0
}
